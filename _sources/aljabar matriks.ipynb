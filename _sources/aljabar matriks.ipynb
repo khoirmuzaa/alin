{
 "cells": [
  {
   "cell_type": "markdown",
   "metadata": {},
   "source": [
    "# Matriks Invers"
   ]
  },
  {
   "cell_type": "markdown",
   "metadata": {},
   "source": [
    "Matrik invers merupakan kebalikan dari suatu matriks, ketika matriks tersebut dikalikan dengan matriks inversnya akan menghasilkan matriks identitas. Matriks invers disimbolkan dengan $A^{-1}$. Matriks invers hanya berlaku pada matriks persegi yang memiliki jumlah baris dan kolom yang sama dan determinanya tidak nol.  \n",
    "misal kita memiliki matriks A dan matriks inversnya $A^{-1}$, maka berlaku persamaan:\n",
    "$A\\times A^{-1}=A^{-1}\\times A=I$\n",
    "I merupakan matriks identitas."
   ]
  },
  {
   "cell_type": "markdown",
   "metadata": {},
   "source": [
    "## Sifat-sifat matriks  \n",
    "JIka A mempunyai matrik invers, k bilangan bulat positif, dan c adalah skalar $\\neq 0$ maka\n",
    "1. $A^{-1}$ diinverskan menjadi $(A^{-1})^{-1}=A$\n",
    "2. $A^{k}$ diinverskan menjadi $(A^{k})^{-1}=A^{k} A^{k} A^{k}=(A^{-1})^{k}=A^{-k}$\n",
    "3. $cA$ diinverskan dan $(cA)^{-1}=\\frac{1}{c}  A^{-1}, c\\neq 0$\n",
    "4. $A^{T}$ diinverskan dan $(A^{T})^{-1}=(A^{-1})^{T}$"
   ]
  },
  {
   "cell_type": "markdown",
   "metadata": {},
   "source": [
    "## Penyelesaian sistem persamaan linier menggunakan matriks invers\n",
    "\n",
    "Penyelesaian sistem persamaan linier menggunakan matriks invers melibatkan beberapa langkah. Misalkan Anda memiliki sistem persamaan linier dalam bentuk matriks \\( Ax = b \\), di mana \\( A \\) adalah matriks koefisien, \\( x \\) adalah vektor variabel, dan \\( b \\) adalah vektor hasil. Untuk menyelesaikan sistem ini menggunakan matriks invers, Anda dapat mengikuti langkah-langkah berikut:\n",
    "\n",
    "1. Hitung determinan dari matriks koefisien \\( A \\). Jika determinan tidak nol, matriks \\( A \\) dapat diinvers.\n",
    "\n",
    "2. Hitung matriks invers dari matriks koefisien \\( A \\), yaitu \\( A^{-1} \\).\n",
    "\n",
    "3. Kalikan kedua sisi persamaan dengan invers dari matriks koefisien \\( A \\), sehingga Anda akan mendapatkan \\( A^{-1}Ax = A^{-1}b \\).\n",
    "\n",
    "4. Karena \\( A^{-1}A \\) adalah matriks identitas, maka \\( x = A^{-1}b \\).\n",
    "\n",
    "Berikut adalah contoh implementasi Python untuk menyelesaikan sistem persamaan linier menggunakan matriks invers:\n"
   ]
  },
  {
   "cell_type": "markdown",
   "metadata": {},
   "source": [
    "Penyelesaian 4 persamaan linier menggunakan matrik invers.\n",
    "$Ax=b\\\\\n",
    "x=A^{-1}b\n",
    "$\n",
    "\n",
    "$$\n",
    "\\\\1x_1+2x_2+x_3+1x_4=3\\\\\n",
    "2x_1+4x_2+6x_3+x_4=12\\\\\n",
    "2x_1+4x_2+8x_3+6x_4=20\\\\\n",
    "4x_1+2x_2+6x_3+8x_4=20\\\\\n",
    "$$\n",
    "\n",
    "$$\n",
    "\\begin{equation*}\n",
    "A=\n",
    "\\begin{bmatrix}\n",
    "1&2&0&1\\\\\n",
    "2&4&6&0\\\\\n",
    "2&4&8&6\\\\\n",
    "4&2&6&8\\\\\n",
    "\\end{bmatrix}\n",
    "\\end{equation*}\n",
    "$$\n",
    "\n",
    "$$\n",
    "\\begin{equation*}\n",
    "x=\n",
    "\\begin{bmatrix}\n",
    "x_1\\\\\n",
    "x_2\\\\\n",
    "x_3\\\\\n",
    "x_4\\\\\n",
    "\\end{bmatrix}\n",
    "\\end{equation*}\n",
    "$$\n",
    "\n",
    "$$\n",
    "\\begin{equation*}\n",
    "b=\n",
    "\\begin{bmatrix}\n",
    "3\\\\\n",
    "12\\\\\n",
    "20\\\\\n",
    "20\\\\\n",
    "\\end{bmatrix}\n",
    "\\end{equation*}\n",
    "$$\n",
    "\n"
   ]
  },
  {
   "cell_type": "code",
   "execution_count": 1,
   "metadata": {},
   "outputs": [],
   "source": [
    "def RowSwap(A,k,l):\n",
    "# =============================================================================\n",
    "#     A is a NumPy array.  RowSwap will return duplicate array with rows\n",
    "#     k and l swapped.\n",
    "# =============================================================================\n",
    "    m = A.shape[0]  # m is number of rows in A\n",
    "    n = A.shape[1]  # n is number of columns in A\n",
    "\n",
    "    B = np.copy(A).astype('float64')\n",
    "\n",
    "    for j in range(n):\n",
    "        temp = B[k][j]\n",
    "        B[k][j] = B[l][j]\n",
    "        B[l][j] = temp\n",
    "\n",
    "    return B\n",
    "\n",
    "def RowScale(A,k,scale):\n",
    "# =============================================================================\n",
    "#     A is a NumPy array.  RowScale will return duplicate array with the\n",
    "#     entries of row k multiplied by scale.\n",
    "# =============================================================================\n",
    "    m = A.shape[0]  # m is number of rows in A\n",
    "    n = A.shape[1]  # n is number of columns in A\n",
    "\n",
    "    B = np.copy(A).astype('float64')\n",
    "\n",
    "    for j in range(n):\n",
    "        B[k][j] *= scale\n",
    "\n",
    "    return B\n",
    "\n",
    "def RowAdd(A,k,l,scale):\n",
    "# =============================================================================\n",
    "#     A is a numpy array.  RowAdd will return duplicate array with row\n",
    "#     l modifed.  The new values will be the old values of row l added to\n",
    "#     the values of row k, multiplied by scale.\n",
    "# =============================================================================\n",
    "    m = A.shape[0]  # m is number of rows in A\n",
    "    n = A.shape[1]  # n is number of columns in A\n",
    "\n",
    "    B = np.copy(A).astype('float64')\n",
    "\n",
    "    for j in range(n):\n",
    "        B[l][j] += B[k][j]*scale\n",
    "\n",
    "    return B"
   ]
  },
  {
   "cell_type": "code",
   "execution_count": 2,
   "metadata": {},
   "outputs": [
    {
     "name": "stdout",
     "output_type": "stream",
     "text": [
      "[[1 2 0 1 1 0 0 0]\n",
      " [2 4 6 0 0 1 0 0]\n",
      " [2 4 8 6 0 0 1 0]\n",
      " [4 2 6 8 0 0 0 1]]\n"
     ]
    }
   ],
   "source": [
    "import numpy as np\n",
    "A =np.array([[1,2,0,1,1,0,0,0],[2,4,6,0,0,1,0,0],[2,4,8,6,0,0,1,0],[4,2,6,8,0,0,0,1]])\n",
    "print(A)"
   ]
  },
  {
   "cell_type": "code",
   "execution_count": 3,
   "metadata": {},
   "outputs": [
    {
     "name": "stdout",
     "output_type": "stream",
     "text": [
      "[[ 1.  2.  0.  1.  1.  0.  0.  0.]\n",
      " [ 0.  0.  6. -2. -2.  1.  0.  0.]\n",
      " [ 2.  4.  8.  6.  0.  0.  1.  0.]\n",
      " [ 4.  2.  6.  8.  0.  0.  0.  1.]]\n"
     ]
    }
   ],
   "source": [
    "B = RowAdd(A, 0, 1, -2)\n",
    "print(B)"
   ]
  },
  {
   "cell_type": "code",
   "execution_count": 4,
   "metadata": {},
   "outputs": [
    {
     "name": "stdout",
     "output_type": "stream",
     "text": [
      "[[ 1.  2.  0.  1.  1.  0.  0.  0.]\n",
      " [ 0.  0.  6. -2. -2.  1.  0.  0.]\n",
      " [ 0.  0.  8.  4. -2.  0.  1.  0.]\n",
      " [ 4.  2.  6.  8.  0.  0.  0.  1.]]\n"
     ]
    }
   ],
   "source": [
    "C = RowAdd(B, 0, 2, -2)\n",
    "print(C)"
   ]
  },
  {
   "cell_type": "code",
   "execution_count": 5,
   "metadata": {},
   "outputs": [
    {
     "name": "stdout",
     "output_type": "stream",
     "text": [
      "[[ 1.  2.  0.  1.  1.  0.  0.  0.]\n",
      " [ 0.  0.  6. -2. -2.  1.  0.  0.]\n",
      " [ 0.  0.  8.  4. -2.  0.  1.  0.]\n",
      " [ 0. -6.  6.  4. -4.  0.  0.  1.]]\n"
     ]
    }
   ],
   "source": [
    "D = RowAdd(C, 0, 3, -4)\n",
    "print(D)"
   ]
  },
  {
   "cell_type": "code",
   "execution_count": 6,
   "metadata": {},
   "outputs": [
    {
     "name": "stdout",
     "output_type": "stream",
     "text": [
      "[[ 1.          2.          0.          1.          1.          0.\n",
      "   0.          0.        ]\n",
      " [ 0.          0.          6.         -2.         -2.          1.\n",
      "   0.          0.        ]\n",
      " [ 0.          0.          8.          4.         -2.          0.\n",
      "   1.          0.        ]\n",
      " [-0.          1.         -1.         -0.66666667  0.66666667 -0.\n",
      "  -0.         -0.16666667]]\n"
     ]
    }
   ],
   "source": [
    "E = RowScale(D, 3, -1/6)\n",
    "print(E)"
   ]
  },
  {
   "cell_type": "code",
   "execution_count": 7,
   "metadata": {},
   "outputs": [
    {
     "name": "stdout",
     "output_type": "stream",
     "text": [
      "[[ 1.          0.          2.          2.33333333 -0.33333333  0.\n",
      "   0.          0.33333333]\n",
      " [ 0.          0.          6.         -2.         -2.          1.\n",
      "   0.          0.        ]\n",
      " [ 0.          0.          8.          4.         -2.          0.\n",
      "   1.          0.        ]\n",
      " [-0.          1.         -1.         -0.66666667  0.66666667 -0.\n",
      "  -0.         -0.16666667]]\n"
     ]
    }
   ],
   "source": [
    "F = RowAdd(E, 3, 0, -2)\n",
    "print(F)"
   ]
  },
  {
   "cell_type": "code",
   "execution_count": 8,
   "metadata": {},
   "outputs": [
    {
     "name": "stdout",
     "output_type": "stream",
     "text": [
      "[[ 1.          0.          2.          2.33333333 -0.33333333  0.\n",
      "   0.          0.33333333]\n",
      " [ 0.          1.          5.         -2.66666667 -1.33333333  1.\n",
      "   0.         -0.16666667]\n",
      " [ 0.          0.          8.          4.         -2.          0.\n",
      "   1.          0.        ]\n",
      " [-0.          1.         -1.         -0.66666667  0.66666667 -0.\n",
      "  -0.         -0.16666667]]\n"
     ]
    }
   ],
   "source": [
    "H = RowAdd(F, 3, 1, 1)\n",
    "print(H)"
   ]
  },
  {
   "cell_type": "code",
   "execution_count": 9,
   "metadata": {},
   "outputs": [
    {
     "name": "stdout",
     "output_type": "stream",
     "text": [
      "[[ 1.          0.          2.          2.33333333 -0.33333333  0.\n",
      "   0.          0.33333333]\n",
      " [ 0.          1.          5.         -2.66666667 -1.33333333  1.\n",
      "   0.         -0.16666667]\n",
      " [ 0.          0.          8.          4.         -2.          0.\n",
      "   1.          0.        ]\n",
      " [-0.          0.         -6.          2.          2.         -1.\n",
      "  -0.          0.        ]]\n"
     ]
    }
   ],
   "source": [
    "I = RowAdd(H, 1, 3, -1)\n",
    "print(I)"
   ]
  },
  {
   "cell_type": "code",
   "execution_count": 10,
   "metadata": {},
   "outputs": [
    {
     "name": "stdout",
     "output_type": "stream",
     "text": [
      "[[ 1.          0.          2.          2.33333333 -0.33333333  0.\n",
      "   0.          0.33333333]\n",
      " [ 0.          1.          5.         -2.66666667 -1.33333333  1.\n",
      "   0.         -0.16666667]\n",
      " [ 0.          0.          8.          4.         -2.          0.\n",
      "   1.          0.        ]\n",
      " [ 0.         -0.          1.         -0.33333333 -0.33333333  0.16666667\n",
      "   0.         -0.        ]]\n"
     ]
    }
   ],
   "source": [
    "J = RowScale(I, 3, -1/6)\n",
    "print(J)"
   ]
  },
  {
   "cell_type": "code",
   "execution_count": 11,
   "metadata": {},
   "outputs": [
    {
     "name": "stdout",
     "output_type": "stream",
     "text": [
      "[[ 1.          0.          0.          3.          0.33333333 -0.33333333\n",
      "   0.          0.33333333]\n",
      " [ 0.          1.          5.         -2.66666667 -1.33333333  1.\n",
      "   0.         -0.16666667]\n",
      " [ 0.          0.          8.          4.         -2.          0.\n",
      "   1.          0.        ]\n",
      " [ 0.         -0.          1.         -0.33333333 -0.33333333  0.16666667\n",
      "   0.         -0.        ]]\n"
     ]
    }
   ],
   "source": [
    "K = RowAdd(J, 3, 0, -2)\n",
    "print(K)"
   ]
  },
  {
   "cell_type": "code",
   "execution_count": 12,
   "metadata": {},
   "outputs": [
    {
     "name": "stdout",
     "output_type": "stream",
     "text": [
      "[[ 1.          0.          0.          3.          0.33333333 -0.33333333\n",
      "   0.          0.33333333]\n",
      " [ 0.          1.          0.         -1.          0.33333333  0.16666667\n",
      "   0.         -0.16666667]\n",
      " [ 0.          0.          8.          4.         -2.          0.\n",
      "   1.          0.        ]\n",
      " [ 0.         -0.          1.         -0.33333333 -0.33333333  0.16666667\n",
      "   0.         -0.        ]]\n"
     ]
    }
   ],
   "source": [
    "L = RowAdd(K, 3, 1, -5)\n",
    "print(L)"
   ]
  },
  {
   "cell_type": "code",
   "execution_count": 13,
   "metadata": {},
   "outputs": [
    {
     "name": "stdout",
     "output_type": "stream",
     "text": [
      "[[ 1.          0.          0.          3.          0.33333333 -0.33333333\n",
      "   0.          0.33333333]\n",
      " [ 0.          1.          0.         -1.          0.33333333  0.16666667\n",
      "   0.         -0.16666667]\n",
      " [ 0.         -0.          1.         -0.33333333 -0.33333333  0.16666667\n",
      "   0.         -0.        ]\n",
      " [ 0.          0.          8.          4.         -2.          0.\n",
      "   1.          0.        ]]\n"
     ]
    }
   ],
   "source": [
    "M = RowSwap(L, 3, 2,)\n",
    "print(M)"
   ]
  },
  {
   "cell_type": "code",
   "execution_count": 14,
   "metadata": {},
   "outputs": [
    {
     "name": "stdout",
     "output_type": "stream",
     "text": [
      "[[ 1.          0.          0.          3.          0.33333333 -0.33333333\n",
      "   0.          0.33333333]\n",
      " [ 0.          1.          0.         -1.          0.33333333  0.16666667\n",
      "   0.         -0.16666667]\n",
      " [ 0.         -0.          1.         -0.33333333 -0.33333333  0.16666667\n",
      "   0.         -0.        ]\n",
      " [ 0.          0.         16.          8.         -4.          0.\n",
      "   2.          0.        ]]\n"
     ]
    }
   ],
   "source": [
    "N = RowAdd(M, 3, 3, 1)\n",
    "print(N)"
   ]
  },
  {
   "cell_type": "code",
   "execution_count": 15,
   "metadata": {},
   "outputs": [
    {
     "name": "stdout",
     "output_type": "stream",
     "text": [
      "[[ 1.          0.          0.          3.          0.33333333 -0.33333333\n",
      "   0.          0.33333333]\n",
      " [ 0.          1.          0.         -1.          0.33333333  0.16666667\n",
      "   0.         -0.16666667]\n",
      " [ 0.         -0.          1.         -0.33333333 -0.33333333  0.16666667\n",
      "   0.         -0.        ]\n",
      " [ 0.          0.          0.         13.33333333  1.33333333 -2.66666667\n",
      "   2.          0.        ]]\n"
     ]
    }
   ],
   "source": [
    "O = RowAdd(N, 2, 3, -16)\n",
    "print(O)"
   ]
  },
  {
   "cell_type": "code",
   "execution_count": 16,
   "metadata": {},
   "outputs": [
    {
     "name": "stdout",
     "output_type": "stream",
     "text": [
      "[[ 1.          0.          0.          3.          0.33333333 -0.33333333\n",
      "   0.          0.33333333]\n",
      " [ 0.          1.          0.         -1.          0.33333333  0.16666667\n",
      "   0.         -0.16666667]\n",
      " [ 0.         -0.          1.         -0.33333333 -0.33333333  0.16666667\n",
      "   0.         -0.        ]\n",
      " [ 0.          0.          0.          1.          0.1        -0.2\n",
      "   0.15        0.        ]]\n"
     ]
    }
   ],
   "source": [
    "P = RowScale(O, 3, 0.075 )\n",
    "print(P)"
   ]
  },
  {
   "cell_type": "code",
   "execution_count": 17,
   "metadata": {},
   "outputs": [
    {
     "name": "stdout",
     "output_type": "stream",
     "text": [
      "[[ 1.          0.          0.          0.          0.03333333  0.26666667\n",
      "  -0.45        0.33333333]\n",
      " [ 0.          1.          0.         -1.          0.33333333  0.16666667\n",
      "   0.         -0.16666667]\n",
      " [ 0.         -0.          1.         -0.33333333 -0.33333333  0.16666667\n",
      "   0.         -0.        ]\n",
      " [ 0.          0.          0.          1.          0.1        -0.2\n",
      "   0.15        0.        ]]\n"
     ]
    }
   ],
   "source": [
    "Q = RowAdd(P, 3, 0, -3)\n",
    "print(Q)"
   ]
  },
  {
   "cell_type": "code",
   "execution_count": 18,
   "metadata": {},
   "outputs": [
    {
     "name": "stdout",
     "output_type": "stream",
     "text": [
      "[[ 1.  0.  0.  0.  0.  0. -0.  0.]\n",
      " [ 0.  1.  0. -0.  0. -0.  0. -0.]\n",
      " [ 0. -0.  1. -0. -0.  0.  0. -0.]\n",
      " [ 0.  0.  0.  1.  0. -0.  0.  0.]]\n"
     ]
    }
   ],
   "source": [
    "R = RowAdd(Q,3, 1, 1 )\n",
    "print(R.round())"
   ]
  },
  {
   "cell_type": "code",
   "execution_count": 19,
   "metadata": {},
   "outputs": [
    {
     "name": "stdout",
     "output_type": "stream",
     "text": [
      "[[ 17.]\n",
      " [-22.]\n",
      " [ 48.]\n",
      " [  3.]]\n"
     ]
    }
   ],
   "source": [
    "H = np.array([[-1,0,0,1], [4,0.5,0,-2], [-4,0,1,2], [1,0,0,0]])\n",
    "I = np.array([[3], [12], [20], [20]])\n",
    "print(H@I)"
   ]
  },
  {
   "cell_type": "code",
   "execution_count": 20,
   "metadata": {},
   "outputs": [
    {
     "name": "stdout",
     "output_type": "stream",
     "text": [
      "Ax = b\n",
      "Ax = [[ 3]\n",
      " [12]\n",
      " [20]\n",
      " [20]]\n",
      "\n",
      "\n",
      "x = A^-1 b\n",
      "x = [[ 23.]\n",
      " [-22.]\n",
      " [ 48.]\n",
      " [  3.]]\n"
     ]
    }
   ],
   "source": [
    "AI = np.array([[1, 0, 0, 1],[4, 0.5, 0, -2], [-4, 0, 1, 2], [1, 0, 0, 0]])\n",
    "b = np.array([[3], [12], [20], [20]])\n",
    "print(\"Ax = b\")\n",
    "print(f\"Ax = {b}\")\n",
    "\n",
    "print(\"\\n\")\n",
    "print(\"x = A^-1 b\")\n",
    "AI1 = AI @ b\n",
    "print(f\"x = {AI1}\")"
   ]
  }
 ],
 "metadata": {
  "kernelspec": {
   "display_name": "Python 3 (ipykernel)",
   "language": "python",
   "name": "python3"
  },
  "language_info": {
   "codemirror_mode": {
    "name": "ipython",
    "version": 3
   },
   "file_extension": ".py",
   "mimetype": "text/x-python",
   "name": "python",
   "nbconvert_exporter": "python",
   "pygments_lexer": "ipython3",
   "version": "3.10.13"
  }
 },
 "nbformat": 4,
 "nbformat_minor": 2
}
