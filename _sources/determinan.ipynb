{
 "cells": [
  {
   "cell_type": "markdown",
   "metadata": {},
   "source": [
    "# Detreminants\n",
    "\n",
    "determianants adalah ukuran skalar dari sebuah matriks. Determinan dari matriks A umumnya dinyatakan dengan notasi det(A), det A, atau |A|. Determinan dapat dianggap sebagai faktor penskalaan transformasi yang digambarkan oleh matriks. Nilai determinan mencirikan beberapa sifat dari matriks tersebut, dan peta linier yang diwakili oleh           "
   ]
  },
  {
   "cell_type": "markdown",
   "metadata": {},
   "source": [
    "## Sifat-sifat Determinan\n",
    "1. Determinan dari suatu matriks identitas adalah 1 "
   ]
  },
  {
   "cell_type": "code",
   "execution_count": 1,
   "metadata": {
    "metadata": {}
   },
   "outputs": [
    {
     "name": "stdout",
     "output_type": "stream",
     "text": [
      "Matriks C : \n",
      " [[1 0]\n",
      " [0 1]]\n",
      "Matriks D : \n",
      " [[1 0 0]\n",
      " [0 1 0]\n",
      " [0 0 1]]\n"
     ]
    }
   ],
   "source": [
    "import numpy as np\n",
    "C = np.array([[1,0], [0,1]])\n",
    "D = np.array([[1,0,0], [0,1,0], [0,0,1]])\n",
    "print(\"Matriks C : \\n\", C)\n",
    "print(\"Matriks D : \\n\", D)"
   ]
  },
  {
   "cell_type": "code",
   "execution_count": 2,
   "metadata": {
    "metadata": {}
   },
   "outputs": [
    {
     "name": "stdout",
     "output_type": "stream",
     "text": [
      "1.0\n"
     ]
    }
   ],
   "source": [
    "E = np.linalg.det(C)\n",
    "print(E)"
   ]
  },
  {
   "cell_type": "markdown",
   "metadata": {},
   "source": [
    "2. Jika terdapat determinan C = determinan(AB)\n",
    "= determinan(A).determinan(B)\n",
    "= AA^1"
   ]
  },
  {
   "cell_type": "code",
   "execution_count": 3,
   "metadata": {
    "metadata": {}
   },
   "outputs": [
    {
     "name": "stdout",
     "output_type": "stream",
     "text": [
      "determinan A :  -3\n",
      "determinan B :  0\n",
      "det.A x det.B : 1\n",
      "[[1. 0.]\n",
      " [0. 1.]]\n"
     ]
    }
   ],
   "source": [
    "A = np.array([[2,1], [3,0]])\n",
    "B = np.linalg.inv(A)\n",
    "A1 = np.linalg.det(A)\n",
    "B1 = np.linalg.det(B)\n",
    "\n",
    "print(\"determinan A : \", round(A1))\n",
    "print(\"determinan B : \",round(B1))\n",
    "C = A1*B1\n",
    "print(\"det.A x det.B :\",round(C))\n",
    "print(A@B)"
   ]
  },
  {
   "cell_type": "markdown",
   "metadata": {},
   "source": [
    "3. Jika menukar baris pada suatu matriks, maka akan mengubah tanda determinasinya juga. misalnya pada matriks D sebagai acuan determinan sebelum ada perubahan baris."
   ]
  },
  {
   "cell_type": "code",
   "execution_count": 4,
   "metadata": {
    "metadata": {}
   },
   "outputs": [
    {
     "name": "stdout",
     "output_type": "stream",
     "text": [
      "determinan matriks D :  5\n"
     ]
    }
   ],
   "source": [
    "import numpy as np\n",
    "D = np.array([[1,4,2], [1,1,1],[3,2,1]])\n",
    "E = np.linalg.det(D)\n",
    "F = round(E)\n",
    "print(\"determinan matriks D : \",F)"
   ]
  },
  {
   "cell_type": "code",
   "execution_count": 5,
   "metadata": {
    "metadata": {}
   },
   "outputs": [
    {
     "name": "stdout",
     "output_type": "stream",
     "text": [
      "determinan matriks D : -5\n"
     ]
    }
   ],
   "source": [
    "D1 = np.array([[1,1,1], [1,4,2],[3,2,1]])\n",
    "D2 = np.linalg.det(D1)\n",
    "print(\"determinan matriks D :\", round(D2))"
   ]
  },
  {
   "cell_type": "markdown",
   "metadata": {},
   "source": [
    "4. Jika menukar kolom pada suatu matriks, maka akan mengubah tanda dari determinan."
   ]
  },
  {
   "cell_type": "code",
   "execution_count": 6,
   "metadata": {
    "metadata": {}
   },
   "outputs": [
    {
     "name": "stdout",
     "output_type": "stream",
     "text": [
      "matriks D :\n",
      " [[1 4 2]\n",
      " [1 1 1]\n",
      " [3 2 1]]\n",
      "determinan D : 5\n",
      "matriks D1 :\n",
      " [[4 1 2]\n",
      " [1 1 1]\n",
      " [2 3 1]]\n",
      "determinan D1: -5\n"
     ]
    }
   ],
   "source": [
    "import numpy as np\n",
    "D = np.array([[1,4,2], [1,1,1],[3,2,1]])\n",
    "E = np.linalg.det(D)\n",
    "F = round(E)\n",
    "print(\"matriks D :\\n\", D)\n",
    "print(\"determinan D :\", F)\n",
    "D1 = np.array([[4,1,2], [1,1,1],[2,3,1]])\n",
    "E1 = np.linalg.det(D1)\n",
    "F1 = round(E1)\n",
    "print(\"matriks D1 :\\n\", D1)\n",
    "print(\"determinan D1:\", F1)"
   ]
  },
  {
   "cell_type": "markdown",
   "metadata": {},
   "source": [
    "5. Jika baris dari suatu matriks merupakan kelipatan dari baris lain maka determinanya 0. kelipatannya bisa 2 kali, 3 kali, dst."
   ]
  },
  {
   "cell_type": "code",
   "execution_count": 7,
   "metadata": {
    "metadata": {}
   },
   "outputs": [
    {
     "name": "stdout",
     "output_type": "stream",
     "text": [
      "0.0\n"
     ]
    }
   ],
   "source": [
    "import numpy as np\n",
    "P = np.array([[1,4,2], [2,8,4], [3,2,1]])\n",
    "print(np.linalg.det(P))"
   ]
  },
  {
   "cell_type": "markdown",
   "metadata": {},
   "source": [
    "6. Jika kolom dari suatu matriks merupakan kelipatan dari kolom lain, maka determinan = 0."
   ]
  },
  {
   "cell_type": "code",
   "execution_count": 8,
   "metadata": {
    "metadata": {}
   },
   "outputs": [
    {
     "name": "stdout",
     "output_type": "stream",
     "text": [
      "0.0\n"
     ]
    }
   ],
   "source": [
    "import numpy as np\n",
    "Q = np.array([[1,4,2], [2,8,3], [1,4,1]])\n",
    "print(np.linalg.det(Q))"
   ]
  },
  {
   "cell_type": "markdown",
   "metadata": {},
   "source": [
    "7. Determinan A = determinan A transpose, jumlah determinan suatu matriks A sama dengan determinan A transpose."
   ]
  },
  {
   "cell_type": "code",
   "execution_count": 9,
   "metadata": {
    "metadata": {}
   },
   "outputs": [
    {
     "name": "stdout",
     "output_type": "stream",
     "text": [
      "determinan A : \n",
      " 5\n",
      "determinan A transpose :\n",
      " 5\n"
     ]
    }
   ],
   "source": [
    "# det A = det A transpose\n",
    "import numpy as np\n",
    "A = np.array([[1,4,2], [1,1,1],[3,2,1]])\n",
    "A_T = np.transpose(A)\n",
    "B = np.linalg.det(A)\n",
    "C = np.linalg.det(A_T)\n",
    "print(\"determinan A : \\n\", round(B))\n",
    "print(\"determinan A transpose :\\n\", round(C))"
   ]
  },
  {
   "cell_type": "markdown",
   "metadata": {},
   "source": [
    "8. Matriks segitiga atas : jika dibawah diagonal utama [1,1,1] adalah 0, meskipun diatas diagonal utama tidak nol. Sedangkan Matriks segitiga bawah : jika diatas diagonal utama [1,1,1] adalah 0, meskipun dibawah diagonal utama tidak nol. jika melakukan operasi baris elementer tidak akan mengubah determinan matriks tersebut."
   ]
  },
  {
   "cell_type": "code",
   "execution_count": 10,
   "metadata": {
    "metadata": {}
   },
   "outputs": [],
   "source": [
    "def RowSwap(A,k,l):\n",
    "# =============================================================================\n",
    "#     A is a NumPy array.  RowSwap will return duplicate array with rows\n",
    "#     k and l swapped.\n",
    "# =============================================================================\n",
    "    m = A.shape[0]  # m is number of rows in A\n",
    "    n = A.shape[1]  # n is number of columns in A\n",
    "\n",
    "    B = np.copy(A).astype('float64')\n",
    "\n",
    "    for j in range(n):\n",
    "        temp = B[k][j]\n",
    "        B[k][j] = B[l][j]\n",
    "        B[l][j] = temp\n",
    "\n",
    "    return B\n",
    "\n",
    "def RowScale(A,k,scale):\n",
    "# =============================================================================\n",
    "#     A is a NumPy array.  RowScale will return duplicate array with the\n",
    "#     entries of row k multiplied by scale.\n",
    "# =============================================================================\n",
    "    m = A.shape[0]  # m is number of rows in A\n",
    "    n = A.shape[1]  # n is number of columns in A\n",
    "\n",
    "    B = np.copy(A).astype('float64')\n",
    "\n",
    "    for j in range(n):\n",
    "        B[k][j] *= scale\n",
    "\n",
    "    return B\n",
    "\n",
    "def RowAdd(A,k,l,scale):\n",
    "# =============================================================================\n",
    "#     A is a numpy array.  RowAdd will return duplicate array with row\n",
    "#     l modifed.  The new values will be the old values of row l added to\n",
    "#     the values of row k, multiplied by scale.\n",
    "# =============================================================================\n",
    "    m = A.shape[0]  # m is number of rows in A\n",
    "    n = A.shape[1]  # n is number of columns in A\n",
    "\n",
    "    B = np.copy(A).astype('float64')\n",
    "\n",
    "    for j in range(n):\n",
    "        B[l][j] += B[k][j]*scale\n",
    "\n",
    "    return B"
   ]
  },
  {
   "cell_type": "code",
   "execution_count": 11,
   "metadata": {
    "metadata": {}
   },
   "outputs": [
    {
     "name": "stdout",
     "output_type": "stream",
     "text": [
      "[[1 4 2]\n",
      " [1 1 1]\n",
      " [3 2 1]]\n",
      "determinan :  5\n"
     ]
    }
   ],
   "source": [
    "import numpy as np \n",
    "A = np.array([[1,4,2], [1,1,1],[3,2,1]])\n",
    "print(A)\n",
    "A1 = np.linalg.det(A)\n",
    "print(\"determinan : \", round(A1))"
   ]
  },
  {
   "cell_type": "code",
   "execution_count": 12,
   "metadata": {
    "metadata": {}
   },
   "outputs": [
    {
     "name": "stdout",
     "output_type": "stream",
     "text": [
      "[[ 1.  4.  2.]\n",
      " [ 0. -3. -1.]\n",
      " [ 3.  2.  1.]]\n",
      "deteminan setelah ada OBE :  5\n"
     ]
    }
   ],
   "source": [
    "B = RowAdd(A, 0, 1, -1)\n",
    "print(B)\n",
    "B1 = np.linalg.det(B)\n",
    "print(\"deteminan setelah ada OBE : \", round(B1))"
   ]
  },
  {
   "cell_type": "markdown",
   "metadata": {},
   "source": [
    "## Ekspansi Kofaktor \n",
    "Ekspansi kofaktor digunakan untuk mencari determinan dari suatu matriks dengan memanfaatkan kofaktor. Kofaktor merupakan suatu elemen dalam suatu matriks yang ditentukan oleh elemen minor tersebut yang diperoleh dengan menghilangkan baris dan kolom yang memuat elemen tersebut.\n",
    "rumus kofaktor: $C_ij = (−1)^{(𝑖+𝑗)}. 𝑑𝑒𝑡(M_𝑖𝑗)$"
   ]
  },
  {
   "cell_type": "code",
   "execution_count": 13,
   "metadata": {
    "metadata": {}
   },
   "outputs": [
    {
     "name": "stdout",
     "output_type": "stream",
     "text": [
      "Matriks A: \n",
      " [[1 3 2 4]\n",
      " [1 2 2 1]\n",
      " [3 1 1 2]\n",
      " [2 1 1 3]]\n",
      "\n",
      "Determinan A :  8\n"
     ]
    }
   ],
   "source": [
    "import numpy as np\n",
    "A = np.array([[1,3,2,4], [1,2,2,1], [3,1,1,2], [2,1,1,3]])\n",
    "B = np.linalg.det(A)\n",
    "print(\"Matriks A: \\n\", A)\n",
    "print()\n",
    "print(\"Determinan A : \", round(B))"
   ]
  }
 ],
 "metadata": {
  "kernelspec": {
   "display_name": "Python 3",
   "language": "python",
   "name": "python3"
  },
  "language_info": {
   "codemirror_mode": {
    "name": "ipython",
    "version": 3
   },
   "file_extension": ".py",
   "mimetype": "text/x-python",
   "name": "python",
   "nbconvert_exporter": "python",
   "pygments_lexer": "ipython3",
   "version": "3.10.13"
  }
 },
 "nbformat": 4,
 "nbformat_minor": 2
}
