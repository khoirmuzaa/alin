{
 "cells": [
  {
   "cell_type": "markdown",
   "metadata": {},
   "source": [
    "# Aljabar Matriks"
   ]
  },
  {
   "cell_type": "markdown",
   "metadata": {},
   "source": [
    "## Matriks\n",
    "\n",
    "## Pengertian Matriks\n",
    "Matriks merupakan susunan bilangan real yang dapat diidentifikasi baris dan kolom nya yang ditempatkan didalam kurung siku, matriks dapat dinotasikan dengan huruf kapital seperti A,B, dan seterusnya. Didalam matriks terdapat elemen-elemen matriks yang dinotasikan dengan huruf kecil yang setiap elemen memiliki baris dan kolom yang berbeda, seperti $a_{ij}=$ a elemen, i baris, j kolom. contoh: $a_{12}$ artinya elemen a terletak dibaris 1 dan kolom ke 2.  \n",
    "\n",
    "* Ukuran matriks ditentukan oleh jumlah baris dan kolom.  \n",
    "contoh : Matriks A berukuran 3x3 (3 baris 3 kolom)\n",
    "$\n",
    "A=\\begin{bmatrix}\n",
    "2 & 4 & 5\\\\\n",
    "4 & 6 & 9\n",
    "\\end{bmatrix}\n",
    "$\n",
    "\n",
    "\n",
    "### Jenis-jenis matriks:\n",
    "1. Matriks nol, matriks yang semua elemen\n",
    "penyusunnnya nol.\n",
    "2. Matriks baris, matriks yang elemennya hanya satu baris.\n",
    "3. Matriks kolom, matriks yang elemennya hanya satu kolom.\n",
    "4. Matriks persegi adalah matriks yang mempunyai jumlah baris dan kolom yang sama.\n",
    "5. Matriks diagonal,matriks persegi yang semua elemen di luar diagonal utamanya bernilai nol.\n",
    "6. Matriks skalar, matriks yang elemen pada diagonal utamanya sama dan elemen diluar diagonal bernilai nol.\n",
    "7. Matriks identitas, matriks skalar yang elemen pada diagonal utamanya sama dengan satu.\n",
    "8. Matriks simetri, matriks persegi yang sama dengan transpose matriks itu sendiri.\n",
    "9. Matriks simetri miring, matriks persegi yang sama dengan negatif matriks transposnya\n",
    "10. Matriks segitiga atas, matriks persegi yang elemen-elemen di bawah diagonal utamanya adalah nol.\n",
    "11. Matriks segitiga bawah, matriks persegi yang elem-elemen di atas diagonal utamanya adalah nol.\n",
    "12. Matriks tranpose, matriks yang mengubah elemen di baris menjadi kolom. \n",
    "\n",
    "### Implementasi Matriks dengan Numpy  \n",
    "\n",
    "\n",
    "\n"
   ]
  },
  {
   "cell_type": "code",
   "execution_count": 1,
   "metadata": {},
   "outputs": [
    {
     "name": "stdout",
     "output_type": "stream",
     "text": [
      "A=\n",
      " [[ 1  3]\n",
      " [ 2  1]\n",
      " [-3  0]\n",
      " [ 6  3]]\n",
      "B=\n",
      " [[ 3  0  4]\n",
      " [-1 -2  1]\n",
      " [ 4  6  2]]\n",
      "C=\n",
      " [[-2  1]\n",
      " [-4  1]]\n",
      "D=\n",
      " [[2]\n",
      " [6]]\n",
      "\n",
      "\n",
      "Ukuran matriks : (4, 2)\n",
      "Jumlah baris : 4\n",
      "Jumlah kolom : 2\n"
     ]
    }
   ],
   "source": [
    "import numpy as np\n",
    "A = np.array([[1, 3],[2,1],[-3,0],[6,3]])\n",
    "B = np.array([[3, 0, 4],[-1,-2,1],[4,6,2]])\n",
    "C = np.array([[-2, 1],[-4,1]])\n",
    "D = np.array([[2],[6]])\n",
    "\n",
    "print(\"A=\\n\",A)\n",
    "print(\"B=\\n\",B)\n",
    "print(\"C=\\n\",C)\n",
    "print(\"D=\\n\",D)\n",
    "print(\"\\n\")\n",
    "print(\"Ukuran matriks :\",A.shape) #ukuran matriks\n",
    "print(\"Jumlah baris :\", A.shape[0])# jumlah baris\n",
    "print(\"Jumlah kolom :\", A.shape[1])# jumlah kolom"
   ]
  },
  {
   "cell_type": "markdown",
   "metadata": {},
   "source": [
    "Dengan metode *Shape* kita dapat mengakses ukuran matriks, berdasarkan jumlah baris dan kolom dalam array. Contoh: Matriks A memilki ukuran 3x3 dengan rincian 3 baris dan 3 kolom."
   ]
  },
  {
   "cell_type": "code",
   "execution_count": 2,
   "metadata": {},
   "outputs": [
    {
     "name": "stdout",
     "output_type": "stream",
     "text": [
      "[[2 4 3]\n",
      " [3 4 1]\n",
      " [1 3 1]]\n"
     ]
    }
   ],
   "source": [
    "y = np.random.randint(5,size=(3,3)) # menampilkan angka random dengan rentang 0-5 dengan ukuran matriks 3x3\n",
    "print(y)"
   ]
  },
  {
   "cell_type": "markdown",
   "metadata": {},
   "source": [
    "## Operasi-operasi Matriks  \n",
    "\n",
    "\n",
    "1. ***Perkalian Matriks***  \n",
    "* Jika jumlah kolom dari matrik A sama dengan jumlah baris matrik B, maka matrik dapat dikalikan. Hasilnya adalah matrik AB, yang memiliki jumlah baris seperti jumlah baris matrik A dan kolom sejumlah kolom matrik B. $${(AB)_ij}$$ adalah kombinasi elemen baris i dari A dan kolom j dari B.\n",
    "\n",
    "\n"
   ]
  },
  {
   "cell_type": "code",
   "execution_count": 3,
   "metadata": {},
   "outputs": [
    {
     "name": "stdout",
     "output_type": "stream",
     "text": [
      "c(AB)\n",
      " [[135 255 102]\n",
      " [138 132  87]\n",
      " [147 285 105]]\n",
      "(cA)B\n",
      " [[135 255 102]\n",
      " [138 132  87]\n",
      " [147 285 105]]\n",
      "A(cB)\n",
      " [[135 255 102]\n",
      " [138 132  87]\n",
      " [147 285 105]]\n"
     ]
    }
   ],
   "source": [
    "# Perkalian matriks c sebagai skalar\n",
    "import numpy as np\n",
    "A = np.array([[5,2,6],[1,7,2],[4,1,8]])\n",
    "B = np.array([[1,5,2],[5,3,3],[5,9,3]])\n",
    "c = 3\n",
    "print('c(AB)\\n',c*(A@B))\n",
    "print('(cA)B\\n',(c*A)@B)\n",
    "print('A(cB)\\n',A@(c*B))"
   ]
  },
  {
   "cell_type": "markdown",
   "metadata": {},
   "source": [
    "2. ***Matriks Transpose***  \n",
    "matriks baru yang diperoleh dengan menukar baris dan kolom dari matriks aslinya.\n"
   ]
  },
  {
   "cell_type": "code",
   "execution_count": 4,
   "metadata": {},
   "outputs": [
    {
     "name": "stdout",
     "output_type": "stream",
     "text": [
      "matrik C sebelum di transpose=\n",
      " [[3 4]\n",
      " [7 0]\n",
      " [6 9]]\n",
      "matrik C setelah di transpose=\n",
      " [[3 7 6]\n",
      " [4 0 9]]\n",
      "ordo C_transpose adalah (2, 3)\n"
     ]
    }
   ],
   "source": [
    "import numpy as np\n",
    "C = np.array([[3,4],[7,0],[6,9]])\n",
    "C_T = C.transpose()\n",
    "print('matrik C sebelum di transpose=\\n', C)\n",
    "print('matrik C setelah di transpose=\\n',C_T)\n",
    "print('ordo C_transpose adalah',C_T.shape)"
   ]
  },
  {
   "cell_type": "markdown",
   "metadata": {},
   "source": [
    "### Program untuk mengalikan matriks"
   ]
  },
  {
   "cell_type": "code",
   "execution_count": 5,
   "metadata": {},
   "outputs": [
    {
     "name": "stdout",
     "output_type": "stream",
     "text": [
      "Berikut adalah contoh matriks\n",
      "\n",
      "matriks1=([[2,6,3],[1,2,5],[8,3,1]])\n",
      "matriks2=([[3,1,5],[4,4,3],[9,7,5]])\n",
      "\n",
      "\n",
      "Hasil perkalian matriks:\n",
      "[57, 47, 43]\n",
      "[56, 44, 36]\n",
      "[45, 27, 54]\n"
     ]
    }
   ],
   "source": [
    "def perkalian(matrix1, matrix2):\n",
    "    if len(matrix1[0]) != len(matrix2):\n",
    "        print(\"Perkalian matriks tidak dapat dilakukan karena jumlah kolom dalam matriks pertama tidak sama dengan jumlah baris dalam matriks kedua\")\n",
    "        return None\n",
    "    result = [[0 for _ in range(len(matrix2[0]))] for _ in range(len(matrix1))]\n",
    "    for i in range(len(matrix1)):\n",
    "        for j in range(len(matrix2[0])):\n",
    "            for k in range(len(matrix2)):\n",
    "                result[i][j] += matrix1[i][k] * matrix2[k][j]\n",
    "    return result\n",
    "\n",
    "def tampilan_hasil(matrix):\n",
    "    for baris in matrix:\n",
    "        print(baris)\n",
    "\n",
    "print (\"Berikut adalah contoh matriks\")\n",
    "print (\"\"\"\n",
    "matriks1=([[2,6,3],[1,2,5],[8,3,1]])\n",
    "matriks2=([[3,1,5],[4,4,3],[9,7,5]])\n",
    "\"\"\")\n",
    "matriks1=([[2,6,3],[1,2,5],[8,3,1]])\n",
    "matriks2=([[3,1,5],[4,4,3],[9,7,5]])\n",
    "test = perkalian(matriks1, matriks2)\n",
    "print(\"\\nHasil perkalian matriks:\")\n",
    "tampilan_hasil(test)\n"
   ]
  }
 ],
 "metadata": {
  "kernelspec": {
   "display_name": "Python 3 (ipykernel)",
   "language": "python",
   "name": "python3"
  },
  "language_info": {
   "codemirror_mode": {
    "name": "ipython",
    "version": 3
   },
   "file_extension": ".py",
   "mimetype": "text/x-python",
   "name": "python",
   "nbconvert_exporter": "python",
   "pygments_lexer": "ipython3",
   "version": "3.10.13"
  }
 },
 "nbformat": 4,
 "nbformat_minor": 2
}
