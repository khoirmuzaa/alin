{
 "cells": [
  {
   "cell_type": "markdown",
   "metadata": {},
   "source": [
    "# Eigenvalues dan Eigenvectors\n",
    "$$Ax = \\lambda x$$\n",
    "\n",
    "$Ax$: vektor $x$ setelah transformasi linier\n",
    "\n",
    "$\\lambda x$: perkalian bilangan riel dari $x, i.e$. peregangan dari vektor $x$.\n",
    "Transformasi linier untuk eigenvector menghasilkan peregangan vektor\n",
    "sebanyak eigenvalue kali.\n",
    "\n",
    "\n",
    "\n",
    "\n",
    "Misalkan $A$ adalah matrik bujur sangkar dengan derat $n$. JIka terdapat\n",
    "vektor tidak nol $x$ dan skalar $\\lambda$ sehingga\n",
    "$Ax$ = $ \\lambda x$\n",
    "maka $\\lambda$ disebut eigenvalue dari $A$, dan $x$ disebut eigenvector, yang nilainya\n",
    "bersesuai dengan eigenvalue $\\lambda$\n"
   ]
  },
  {
   "cell_type": "markdown",
   "metadata": {},
   "source": [
    "**Contoh Menghitung Eigenvalue dan Eigenvactor Matriks 2x2**\n",
    "\n",
    "**Contoh**  \n",
    "  \n",
    "Hitung eigen value dan eigen vector dari matrik A  \n",
    "  \n",
    "\n",
    "$\n",
    "\\begin{matrix}\n",
    "    A = \\begin{bmatrix}\n",
    "        2 & 1 \\\\\n",
    "        1 & 2 \\\\\n",
    "    \\end{bmatrix}\n",
    "\\end{matrix}\n",
    "$\n",
    "\n",
    "\n",
    "solusi:  \n",
    "\n",
    "\n",
    "$\n",
    "\\begin{matrix}\n",
    "    det(A - \\lambda I) = \\begin{bmatrix}\n",
    "        2 - \\lambda & 1 \\\\\n",
    "        1 & 2 - \\lambda \\\\\n",
    "    \\end{bmatrix}\n",
    "    =\n",
    "    (\\lambda - 1) (\\lambda - 3) = 0 \n",
    "\\end{matrix}\n",
    "$\n",
    "\n",
    "\n",
    "Untuk eigenvalue $\\lambda_{1}$ = 1,\n",
    "\n",
    "\n",
    "$\n",
    "\\begin{matrix}\n",
    "    (A - \\lambda_{1}I)x_{1}= \\begin{bmatrix}\n",
    "        1 & 1 \\\\\n",
    "        1 & 1 \\\\\n",
    "    \\end{bmatrix}\n",
    "    \\begin{bmatrix}\n",
    "        x_{1} \\\\\n",
    "        x_{2} \\\\\n",
    "    \\end{bmatrix}\n",
    "    \\begin{bmatrix}\n",
    "        0 \\\\\n",
    "        0 \\\\\n",
    "    \\end{bmatrix}\n",
    "    ,\n",
    "    x_{1}\n",
    "    =\n",
    "    \\begin{bmatrix}\n",
    "        1 \\\\\n",
    "        -1 \\\\\n",
    "    \\end{bmatrix}\n",
    "\\end{matrix}\n",
    "$\n",
    "\n",
    "\n",
    "Untuk eigenvalue $\\lambda_{2}$ = 3,\n",
    "\n",
    "\n",
    "$\n",
    "\\begin{matrix}\n",
    "    (A - \\lambda_{2}I)x_{2}= \\begin{bmatrix}\n",
    "        -1 & 1 \\\\\n",
    "        1 & -1 \\\\\n",
    "    \\end{bmatrix}\n",
    "    \\begin{bmatrix}\n",
    "        x_{1} \\\\\n",
    "        x_{2} \\\\\n",
    "    \\end{bmatrix}\n",
    "    \\begin{bmatrix}\n",
    "        0 \\\\\n",
    "        0 \\\\\n",
    "    \\end{bmatrix}\n",
    "    ,\n",
    "    x_{2}\n",
    "    =\n",
    "    \\begin{bmatrix}\n",
    "        1 \\\\\n",
    "        1 \\\\\n",
    "    \\end{bmatrix}\n",
    "\\end{matrix}\n",
    "$"
   ]
  },
  {
   "cell_type": "markdown",
   "metadata": {},
   "source": [
    "**Contoh Menghitung Eigenvalue dan Eigenvactor Menggunakan Numpy Matriks 2x2 dan 3x3**"
   ]
  },
  {
   "cell_type": "code",
   "execution_count": 1,
   "metadata": {},
   "outputs": [
    {
     "name": "stdout",
     "output_type": "stream",
     "text": [
      "E value [3. 1.]\n",
      "E vector \n",
      " [[ 1. -1.]\n",
      " [ 1.  1.]]\n"
     ]
    }
   ],
   "source": [
    "#matriks 2x2\n",
    "import numpy as np\n",
    "from numpy.linalg import eig\n",
    "A = np.array([[2,1],[1,2]])\n",
    "w,v =eig(A)\n",
    "print(\"E value\",w)\n",
    "print(\"E vector \\n\",v.round())"
   ]
  },
  {
   "cell_type": "code",
   "execution_count": 7,
   "metadata": {},
   "outputs": [
    {
     "name": "stdout",
     "output_type": "stream",
     "text": [
      "E value [ 1.61168440e+01 -1.11684397e+00 -1.30367773e-15]\n",
      "E vector \n",
      " [[-0. -1.  0.]\n",
      " [-1. -0. -1.]\n",
      " [-1.  1.  0.]]\n"
     ]
    }
   ],
   "source": [
    "#matriks 3x3\n",
    "import numpy as np\n",
    "from numpy.linalg import eig\n",
    "A = np.array([[1,2,3],[4,5,6],[7,8,9]])\n",
    "w,v =eig(A)\n",
    "print(\"E value\",w)\n",
    "print(\"E vector \\n\",v.round())"
   ]
  },
  {
   "cell_type": "markdown",
   "metadata": {},
   "source": [
    "**Contoh Implementasi Eigenvalue dan Eigenvector Implementasi PCA melalui EVD dengan python:**"
   ]
  },
  {
   "cell_type": "code",
   "execution_count": 1,
   "metadata": {},
   "outputs": [
    {
     "name": "stdout",
     "output_type": "stream",
     "text": [
      "Komponen utama:\n",
      " [[-1. -0.]\n",
      " [ 1.  0.]]\n",
      "Eigenvalue:\n",
      " [1. 0.]\n"
     ]
    }
   ],
   "source": [
    "import numpy as np\n",
    "\n",
    "def pcaSVD(X):\n",
    "    n, p = X.shape\n",
    "    X_centered = X - X.mean(axis=0)  # Pusatkan data\n",
    "\n",
    "    u, sigma, vt = np.linalg.svd(X_centered, full_matrices=False)\n",
    "\n",
    "    # Mengembalikan komponen utama dan eigenvalue\n",
    "    return (X_centered @ vt.T), (sigma**2) / (n-1)\n",
    "\n",
    "# Data contoh\n",
    "x = np.array([[2, 1], [1, 2]])\n",
    "\n",
    "komponen_utama, eigenvalue = pcaSVD(x)\n",
    "print(\"Komponen utama:\\n\", komponen_utama.round())\n",
    "print(\"Eigenvalue:\\n\", eigenvalue.round())\n"
   ]
  },
  {
   "cell_type": "markdown",
   "metadata": {},
   "source": [
    "  * Terdapat fungsi pcaEVD dengan parameter x.\n",
    "  * n, p = X.shape untuk mendapatkan jumlah sampel dan jumlah fitur dari bentuk matriks x.\n",
    "  * x _= x.mean(axis=0) untuk mengurangkan mean dari setiap kolom data sehingga data memiliki mean 0.\n",
    "  * u, sigma, vt = np.linalg.svd(X, full_matrices=False) untuk memecah matriks x menjadi tiga matriks u, sigma dan vt.\n",
    "\n",
    "  matriks u adalah matriks ortogonal yang kolom-kolomya adalah vektor singular kiri.\n",
    "\n",
    "  matriks sigma adalah vektor yang berisi singular values.\n",
    "\n",
    "  matriks vt adalah ortogonal yang baris-barisnya adalah vektor singular kanan.\n",
    "\n",
    "  * return (X @ vt.T), (sigma**2) / (n-1) untuk mengembalikan nilai ke dalam fungsi.\n",
    "\n",
    "  (X @ vt.T) adalah matriks hasil transformasi data asli ke ruang komponen utama.\n",
    "\n",
    "  (sigma**2) / (n-1) adalah nilai eigen yang digunakan untuk menghitung proporsi variansi."
   ]
  }
 ],
 "metadata": {
  "kernelspec": {
   "display_name": "Python 3 (ipykernel)",
   "language": "python",
   "name": "python3"
  },
  "language_info": {
   "codemirror_mode": {
    "name": "ipython",
    "version": 3
   },
   "file_extension": ".py",
   "mimetype": "text/x-python",
   "name": "python",
   "nbconvert_exporter": "python",
   "pygments_lexer": "ipython3",
   "version": "3.10.13"
  }
 },
 "nbformat": 4,
 "nbformat_minor": 2
}
