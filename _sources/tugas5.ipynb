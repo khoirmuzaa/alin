{
 "cells": [
  {
   "cell_type": "markdown",
   "metadata": {},
   "source": [
    "# Algoritma PageRank\n",
    "\n",
    "PageRank adalah algoritma yang dibuat oleh Larry Page. Algoritma ini digunakan oleh mesin pencarian Google yang memberikan bobot numerik untuk setiap elemen dari kumpulan dokumen hyperlink seperti Word Wide Web dengan tujuan untuk mengukur hubungan kepentingan dalam kumpulan dokumen tersebut. Dalam algoritma PageRank dihasilkan matriks yang menghitung probabilitas bahwa pengguna akan berpindah dari satu halaman ke halaman lainnya.\n",
    "\n",
    "Algoritma PageRank umumnya diterapkan pada grafik berarah , namun dalam kasus grafik tidak berarah algoritma pagerank juga dapat digunakan dengan memodifikasi seperti yang diterapkan pada algoritma TextRank . Pada TextRank akan dibangun sebuah grafik yang berisi hubungan antar kalimat dalam dokumen. Simpul di dalam graf ini direpresentasikan sebagai satuan satuan yang akan diberikan peringkat. Vertex ini memiliki kemiripan yang dihubungkan oleh edge . Kemiripan disini dapat ditentukan dengan cosine kesamaan di mana akan didapat kesamaan dari setiap kalimat satu sama lain."
   ]
  },
  {
   "cell_type": "markdown",
   "metadata": {},
   "source": [
    "**contoh menghitung Algoritma PageRank** \n",
    "\n",
    "$$r_j=\\sum_{i \\rightarrow j} \\frac{r_i}{d_i}$$\n",
    "\n",
    "* $r_{j}$ : nilai rangking dari node j yang dihitung  \n",
    "* $\\sum_{i \\rightarrow j}$ : jumlah dari semua node 𝑖 yang memiliki tautan (link) menuju node 𝑗.\n",
    "* $r_{i}$ : nilai rangking dari node 𝑖 yang memberikan tautan ke node 𝑗.  \n",
    "* $d_{i}$ : derajat keluar (out-degree) dari node 𝑖 yaitu jumlah tautan yang keluar dari node 𝑖.  \n",
    "\n",
    "Dengan rumus diatas maka dapat menulis sistem linier :  \n",
    "\n",
    "$r0 = \\frac{r4}{3}$  \n",
    "$r1 = \\frac{r2}{2} + \\frac{r4}{3} + r3$  \n",
    "$r2 = \\frac{r0}{3} + \\frac{r4}{3}$  \n",
    "$r3 = \\frac{r2}{2} + \\frac{r0}{3}$  \n",
    "$r4 = \\frac{r0}{3} + r1$  \n",
    "\n",
    "maka didapat matriks dari persamaan diatas :  \n",
    "$$\n",
    "A =\\left(\\begin{array}{ccccc}\n",
    "0 & 0 & 0 & 0 & \\frac{1}{3} \\\\\n",
    "0 & 0 & \\frac{1}{2} & 1 & \\frac{1}{3} \\\\\n",
    "\\frac{1}{3} & 0 & 0 & 0 & \\frac{1}{3} \\\\\n",
    "\\frac{1}{3} & 0 & \\frac{1}{2} & 0 & 0 \\\\\n",
    "\\frac{1}{3} & 1 & 0 & 0 & 0\n",
    "\\end{array}\\right)\n",
    "$$  \n",
    "$$\n",
    "V0 = \\begin{equation*}\n",
    "\\begin{bmatrix}\n",
    "0.2\\\\\n",
    "0.2\\\\\n",
    "0.2\\\\\n",
    "0.2\\\\\n",
    "0.2\n",
    "\\end{bmatrix}\n",
    "\\end{equation*}\n",
    "$$  \n",
    "\n"
   ]
  },
  {
   "cell_type": "markdown",
   "metadata": {},
   "source": [
    "## Menghitung Menggunakan cara manual"
   ]
  },
  {
   "cell_type": "code",
   "execution_count": 1,
   "metadata": {},
   "outputs": [
    {
     "name": "stdout",
     "output_type": "stream",
     "text": [
      "[[0.06666667]\n",
      " [0.36666667]\n",
      " [0.13333333]\n",
      " [0.16666667]\n",
      " [0.26666667]]\n"
     ]
    }
   ],
   "source": [
    "import numpy as np\n",
    "A = np.array([[0,0,0,0,1/3], [0,0,1/2,1,1/3], [1/3,0,0,0,1/3],[1/3,0,1/2,0,0],[1/3,1,0,0,0]])\n",
    "V0 = np.array([[0.2], [0.2], [0.2], [0.2], [0.2]])\n",
    "\n",
    "V1 = A @ V0\n",
    "\n",
    "print(V1)"
   ]
  },
  {
   "cell_type": "code",
   "execution_count": 2,
   "metadata": {},
   "outputs": [
    {
     "name": "stdout",
     "output_type": "stream",
     "text": [
      "[[0.08888889]\n",
      " [0.32222222]\n",
      " [0.11111111]\n",
      " [0.08888889]\n",
      " [0.38888889]]\n"
     ]
    }
   ],
   "source": [
    "V2 = A @ V1\n",
    "print(V2)"
   ]
  },
  {
   "cell_type": "code",
   "execution_count": 3,
   "metadata": {},
   "outputs": [
    {
     "name": "stdout",
     "output_type": "stream",
     "text": [
      "[[0.12962963]\n",
      " [0.27407407]\n",
      " [0.15925926]\n",
      " [0.08518519]\n",
      " [0.35185185]]\n"
     ]
    }
   ],
   "source": [
    "V3 = A @ V2\n",
    "print(V3)"
   ]
  },
  {
   "cell_type": "code",
   "execution_count": 4,
   "metadata": {},
   "outputs": [
    {
     "name": "stdout",
     "output_type": "stream",
     "text": [
      "[[0.11728395]\n",
      " [0.28209877]\n",
      " [0.16049383]\n",
      " [0.12283951]\n",
      " [0.31728395]]\n"
     ]
    }
   ],
   "source": [
    "V4 = A @ V3\n",
    "print(V4)"
   ]
  },
  {
   "cell_type": "code",
   "execution_count": 5,
   "metadata": {},
   "outputs": [
    {
     "name": "stdout",
     "output_type": "stream",
     "text": [
      "[[0.10576132]\n",
      " [0.30884774]\n",
      " [0.14485597]\n",
      " [0.11934156]\n",
      " [0.32119342]]\n"
     ]
    }
   ],
   "source": [
    "V5= A @ V4\n",
    "print(V5)"
   ]
  },
  {
   "cell_type": "code",
   "execution_count": 7,
   "metadata": {},
   "outputs": [
    {
     "name": "stdout",
     "output_type": "stream",
     "text": [
      "0.0011203406734407993\n"
     ]
    }
   ],
   "source": [
    "#|V(i+1)-Vi|**2 < toleransi (0,01)\n",
    "a = (0.10576132 - 0.11728395)**2\n",
    "b = (0.30884774 - 0.28209877)**2\n",
    "c = (0.14485597 - 0.16049383)**2\n",
    "d = (0.11934156 - 0.12283951)**2\n",
    "e = (0.32119342 - 0.31728395)**2\n",
    "\n",
    "f = a+b+c+d+e\n",
    "\n",
    "print(f)"
   ]
  },
  {
   "cell_type": "markdown",
   "metadata": {},
   "source": [
    "Penjelasan :\n",
    "\n",
    "- hasil dari $|V_{i+1}-V_{i}|^{2}$ yaitu 0.007681756318244199 < 0,01 .\n",
    "\n",
    "- jadi urutan rangking dari page diatas dari yang paling tinggi adalah r5, r2, r3, r1, r4"
   ]
  },
  {
   "cell_type": "markdown",
   "metadata": {},
   "source": [
    "## Menghitung menggunakan cara perualangan"
   ]
  },
  {
   "cell_type": "code",
   "execution_count": 1,
   "metadata": {},
   "outputs": [
    {
     "name": "stdout",
     "output_type": "stream",
     "text": [
      "Data yang sama dengan contoh di atas\n",
      "jumlah perulangan:  3\n",
      "ranking data: \n",
      " [[0.12962963]\n",
      " [0.27407407]\n",
      " [0.15925926]\n",
      " [0.08518519]\n",
      " [0.35185185]]\n",
      "ranking:  [5, 2, 3, 1, 4]\n",
      "\n"
     ]
    }
   ],
   "source": [
    "import numpy as np\n",
    "\n",
    "# data seperti di contoh di atas\n",
    "A = np.array([[0,0,0,0,1/3], [0,0,1/2,1,1/3], [1/3,0,0,0,1/3],[1/3,0,1/2,0,0],[1/3,1,0,0,0]])\n",
    "Av0 = np.array([[0.2], [0.2], [0.2], [0.2], [0.2]])\n",
    "\n",
    "\n",
    "def kaliMatrik(A, vlama):\n",
    "  # mengkalikan matrix dengan vlama\n",
    "  v = A@vlama\n",
    "  return v\n",
    "\n",
    "def convergen(vlama, v, toleransi):\n",
    "    # menghitung selisih antara vbaru dan vlama\n",
    "    selisih = v - vlama\n",
    "    # menghitung nilai convergen nya\n",
    "    convergen = 0\n",
    "    for i in selisih:\n",
    "      convergen += i[0]**2\n",
    "    # mengembalikan true jika convergen kurang dari nilai toleransi jika tidak false\n",
    "    return convergen < toleransi\n",
    "\n",
    "def sort(numpy_arr):\n",
    "  # sorting data ranking menggunakan algoritma bubble sort\n",
    "  sorted = False\n",
    "  i = 0\n",
    "  rank = []\n",
    "  data = []\n",
    "  iter = 1\n",
    "  for k in numpy_arr:\n",
    "    data.append(k[0])\n",
    "    rank.append(iter)\n",
    "    iter += 1\n",
    "  \n",
    "  \n",
    "  while sorted == False and i < len(data):\n",
    "    isSwap = False\n",
    "    for j in range(len(data) - 1 - i):\n",
    "      if data[j] < data[j + 1]:\n",
    "        rank[j], rank[j + 1] = rank[j + 1], rank[j]\n",
    "        data[j], data[j + 1] = data[j + 1], data[j]\n",
    "        isSwap = True\n",
    "\n",
    "    if isSwap == False:\n",
    "      sorted = True\n",
    "    i += 1\n",
    "  return rank\n",
    "\n",
    "\n",
    "# melakukan ranking \n",
    "def ranking(v, A, toleransi):\n",
    "    vlama = v\n",
    "    coverage = False\n",
    "    perulangan = 0\n",
    "    # jika coverage true perulangan berhenti\n",
    "    while not coverage:\n",
    "        # mencari vbaru\n",
    "        vbaru = kaliMatrik(A, vlama)\n",
    "        # mencari selisih dan membadingkan nya dengan nilai toleransi \n",
    "        # jika nilai convergen lebih kecil dari nilai toleransi mengubah coverage menjadi True\n",
    "        coverage = convergen(vlama, vbaru, toleransi)\n",
    "        vlama = vbaru\n",
    "        perulangan += 1\n",
    "    \n",
    "    # mengembalikan jumlah looping dan v terakhir\n",
    "    return (vbaru, perulangan)\n",
    "\n",
    "# data yang sama seperti contoh di atas\n",
    "print(\"Data yang sama dengan contoh di atas\")\n",
    "ranking1 = ranking(Av0, A, 0.01)\n",
    "print(\"jumlah perulangan: \", ranking1[1])\n",
    "print(\"ranking data: \\n\", ranking1[0])\n",
    "print(\"ranking: \", sort(ranking1[0]))\n",
    "print()"
   ]
  }
 ],
 "metadata": {
  "kernelspec": {
   "display_name": "Python 3",
   "language": "python",
   "name": "python3"
  },
  "language_info": {
   "codemirror_mode": {
    "name": "ipython",
    "version": 3
   },
   "file_extension": ".py",
   "mimetype": "text/x-python",
   "name": "python",
   "nbconvert_exporter": "python",
   "pygments_lexer": "ipython3",
   "version": "3.10.13"
  }
 },
 "nbformat": 4,
 "nbformat_minor": 2
}
